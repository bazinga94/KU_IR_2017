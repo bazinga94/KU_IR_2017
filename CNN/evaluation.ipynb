{
 "cells": [
  {
   "cell_type": "code",
   "execution_count": 1,
   "metadata": {},
   "outputs": [
    {
     "name": "stdout",
     "output_type": "stream",
     "text": [
      "\n",
      "Parameters:\n",
      "ALLOW_SOFT_PLACEMENT=True\n",
      "ANGRY_DATA_FILE=./finaldata/angry_test_tf_2.txt\n",
      "BATCH_SIZE=64\n",
      "CALM_DATA_FILE=./finaldata/calm_test_tf_2.txt\n",
      "CHECKPOINT_DIR=ensemble/345/checkpoints\n",
      "EVAL_TRAIN=True\n",
      "HAPPY_DATA_FILE=./finaldata/happy_test_tf_2.txt\n",
      "LOG_DEVICE_PLACEMENT=False\n",
      "SAD_DATA_FILE=./finaldata/sad_test_tf_2.txt\n",
      "\n",
      "\n",
      "Evaluating...\n",
      "\n",
      "INFO:tensorflow:Restoring parameters from model-345\n",
      "Total number of test examples: 19846\n",
      "Accuracy: 0.362239\n"
     ]
    }
   ],
   "source": [
    "#! /usr/bin/env python\n",
    "\n",
    "import tensorflow as tf\n",
    "import numpy as np\n",
    "import os\n",
    "import time\n",
    "import datetime\n",
    "import data_helpers2\n",
    "from text_cnn import TextCNN\n",
    "from tensorflow.contrib import learn\n",
    "import csv\n",
    "\n",
    "# Parameters\n",
    "# ==================================================\n",
    "\n",
    "# Data Parameters\n",
    "tf.flags.DEFINE_string(\"happy_data_file\", \"./finaldata/happy_test_tf_2.txt\", \"Data source for the happy data.\")\n",
    "tf.flags.DEFINE_string(\"sad_data_file\", \"./finaldata/sad_test_tf_2.txt\", \"Data source for the sad data.\")\n",
    "tf.flags.DEFINE_string(\"angry_data_file\", \"./finaldata/angry_test_tf_2.txt\", \"Data source for the dark data.\")\n",
    "tf.flags.DEFINE_string(\"calm_data_file\", \"./finaldata/calm_test_tf_2.txt\", \"Data source for the relax data.\")\n",
    "# Eval Parameters\n",
    "tf.flags.DEFINE_integer(\"batch_size\",64, \"Batch Size (default: 64)\")\n",
    "tf.flags.DEFINE_string(\"checkpoint_dir\", \"ensemble/345/checkpoints\", \"Checkpoint directory from training run\")\n",
    "tf.flags.DEFINE_boolean(\"eval_train\", True, \"Evaluate on all training data\")\n",
    "\n",
    "# Misc Parameters\n",
    "tf.flags.DEFINE_boolean(\"allow_soft_placement\", True, \"Allow device soft device placement\")\n",
    "tf.flags.DEFINE_boolean(\"log_device_placement\", False, \"Log placement of ops on devices\")\n",
    "\n",
    "\n",
    "FLAGS = tf.flags.FLAGS\n",
    "FLAGS._parse_flags()\n",
    "print(\"\\nParameters:\")\n",
    "for attr, value in sorted(FLAGS.__flags.items()):\n",
    "    print(\"{}={}\".format(attr.upper(), value))\n",
    "print(\"\")\n",
    "\n",
    "# CHANGE THIS: Load data. Load your own data here\n",
    "if FLAGS.eval_train:\n",
    "    x_raw2, y_test2 = data_helpers2.load_data_and_labels(FLAGS.happy_data_file,FLAGS.sad_data_file,FLAGS.angry_data_file,FLAGS.calm_data_file)\n",
    "    y_test2 = np.argmax(y_test2, axis=1)\n",
    "    x_raw, y_test = data_helpers2.load_data_and_labels(FLAGS.happy_data_file,FLAGS.sad_data_file,FLAGS.angry_data_file,FLAGS.calm_data_file)\n",
    "    y_test = np.argmax(y_test, axis=1)\n",
    "    \n",
    "else:\n",
    "    x_raw = [\"We'll be off and running to a lil' place called SILVERWOOD today! Can't wait! :)\",\\\n",
    "            \"I can't believe Michael Jackson is dead! ):\",\\\n",
    "            \"i wasn't the son my father wanted\",\\\n",
    "            \"the squirell is dead and im sad :(\",\\\n",
    "            \"holy geez. thank you all SO MUCH for all the birthday wishes! it was a bit overwhelming! amazing! it's definitely been an excellent birthweek! so many well wishing and humbling moments and beautiful everything!\"]\n",
    "    y_test = [2,1,1,1,2]\n",
    "\n",
    "# Map data into vocabulary\n",
    "vocab_path = os.path.join(FLAGS.checkpoint_dir, \"..\", \"vocab\")\n",
    "vocab_processor = learn.preprocessing.VocabularyProcessor.restore(vocab_path)\n",
    "vocab_path2 = os.path.join(FLAGS.checkpoint_dir, \"..\", \"vocab\")\n",
    "vocab_processor2 = learn.preprocessing.VocabularyProcessor.restore(vocab_path2)\n",
    "x_test = np.array(list(vocab_processor.transform(x_raw)))\n",
    "x_test2 = np.array(list(vocab_processor2.transform(x_raw2)))\n",
    "\n",
    "print(\"\\nEvaluating...\\n\")\n",
    "\n",
    "\n",
    "\n",
    "    \n",
    "\n",
    "# Map data into vocabulary\n",
    "    \n",
    "\n",
    "\n",
    "graph2 = tf.Graph()\n",
    "with graph2.as_default():\n",
    "    session_conf2 = tf.ConfigProto(\n",
    "          allow_soft_placement=FLAGS.allow_soft_placement,\n",
    "          log_device_placement=FLAGS.log_device_placement)\n",
    "    sess2 = tf.Session(config=tf.ConfigProto(log_device_placement=True))\n",
    "    with sess2.as_default():\n",
    "        # Load the saved meta graph and restore variables\n",
    "        saver2 = tf.train.import_meta_graph(\"model-345.meta\")\n",
    "        #saver = tf.train.import_meta_graph(\"{}.meta\".format(checkpoint_file))\n",
    "        saver2.restore(sess2, \"model-345\")\n",
    "\n",
    "        # Get the placeholders from the graph by name\n",
    "        input_x2 = graph2.get_operation_by_name(\"input_x\").outputs[0]\n",
    "       \n",
    "        dropout_keep_prob = graph2.get_operation_by_name(\"dropout_keep_prob\").outputs[0]\n",
    "           \n",
    "\n",
    "        # Tensors we want to evaluate\n",
    "        predictions2 = graph2.get_operation_by_name(\"output/predictions\").outputs[0]\n",
    "           \n",
    "        # Generate batches for one epoch\n",
    "        batches2 = data_helpers2.batch_iter(list(x_test2), FLAGS.batch_size, 1, shuffle=False)\n",
    "            \n",
    "        # Collect the predictions here\n",
    "        all_predictions2 = []\n",
    "\n",
    "        for x_test_batch in batches2:\n",
    "            batch_predictions2 = sess2.run(predictions2, {input_x2: x_test_batch, dropout_keep_prob: 1.0})\n",
    "            all_predictions2 = np.concatenate([all_predictions2, batch_predictions2])\n",
    "            \n",
    "        \n",
    "      \n",
    "\n",
    "# Print accuracy if y_test is defined\n",
    "# # if y_test is not None:\n",
    "# #     correct_predictions = float(sum(all_predictions == y_test))\n",
    "# #     print(\"Total number of test examples: {}\".format(len(y_test)))\n",
    "# #     print(\"Accuracy: {:g}\".format(correct_predictions/float(len(y_test))))\n",
    "if y_test2 is not None:\n",
    "    correct_predictions2 = float(sum(all_predictions2 == y_test2))\n",
    "    print(\"Total number of test examples: {}\".format(len(y_test2)))\n",
    "    print(\"Accuracy: {:g}\".format(correct_predictions2/float(len(y_test2))))\n",
    "    \n",
    "# Save the evaluation to a csv\n",
    "# predictions_human_readable = np.column_stack((np.array(x_raw), all_predictions))\n",
    "# out_path = os.path.join(\"\", \"\", \"prediction.csv\")\n",
    "# #out_path = os.path.join(FLAGS.checkpoint_dir, \"..\", \"prediction.csv\")\n",
    "# print(\"Saving evaluation to {0}\".format(out_path))\n",
    "# with open(out_path, 'w') as f:\n",
    "#     csv.writer(f).writerows(predictions_human_readable)\n"
   ]
  },
  {
   "cell_type": "code",
   "execution_count": 2,
   "metadata": {},
   "outputs": [
    {
     "ename": "NameError",
     "evalue": "name 'sess' is not defined",
     "output_type": "error",
     "traceback": [
      "\u001b[1;31m---------------------------------------------------------------------------\u001b[0m",
      "\u001b[1;31mNameError\u001b[0m                                 Traceback (most recent call last)",
      "\u001b[1;32m<ipython-input-2-2d39c5cb129f>\u001b[0m in \u001b[0;36m<module>\u001b[1;34m()\u001b[0m\n\u001b[1;32m----> 1\u001b[1;33m \u001b[0msess\u001b[0m\u001b[1;33m.\u001b[0m\u001b[0mrun\u001b[0m\u001b[1;33m(\u001b[0m\u001b[0mpredictions\u001b[0m\u001b[1;33m,\u001b[0m \u001b[1;33m{\u001b[0m\u001b[0minput_x\u001b[0m\u001b[1;33m:\u001b[0m \u001b[0mx_test\u001b[0m\u001b[1;33m,\u001b[0m \u001b[0mdropout_keep_prob\u001b[0m\u001b[1;33m:\u001b[0m \u001b[1;36m1.0\u001b[0m\u001b[1;33m}\u001b[0m\u001b[1;33m)\u001b[0m\u001b[1;33m\u001b[0m\u001b[0m\n\u001b[0m",
      "\u001b[1;31mNameError\u001b[0m: name 'sess' is not defined"
     ]
    }
   ],
   "source": [
    "sess.run(predictions, {input_x: x_test, dropout_keep_prob: 1.0})"
   ]
  },
  {
   "cell_type": "code",
   "execution_count": null,
   "metadata": {
    "collapsed": true
   },
   "outputs": [],
   "source": [
    "for batch in batches:\n",
    "    y = zip(*batch)"
   ]
  },
  {
   "cell_type": "code",
   "execution_count": null,
   "metadata": {
    "collapsed": true
   },
   "outputs": [],
   "source": [
    "x_test"
   ]
  },
  {
   "cell_type": "code",
   "execution_count": null,
   "metadata": {
    "collapsed": true
   },
   "outputs": [],
   "source": [
    "y_test"
   ]
  },
  {
   "cell_type": "code",
   "execution_count": null,
   "metadata": {
    "collapsed": true
   },
   "outputs": [],
   "source": [
    "predictions"
   ]
  },
  {
   "cell_type": "code",
   "execution_count": null,
   "metadata": {
    "collapsed": true
   },
   "outputs": [],
   "source": [
    "x_raw"
   ]
  },
  {
   "cell_type": "code",
   "execution_count": null,
   "metadata": {
    "collapsed": true
   },
   "outputs": [],
   "source": []
  }
 ],
 "metadata": {
  "kernelspec": {
   "display_name": "Python 3",
   "language": "python",
   "name": "python3"
  },
  "language_info": {
   "codemirror_mode": {
    "name": "ipython",
    "version": 3
   },
   "file_extension": ".py",
   "mimetype": "text/x-python",
   "name": "python",
   "nbconvert_exporter": "python",
   "pygments_lexer": "ipython3",
   "version": "3.6.3"
  }
 },
 "nbformat": 4,
 "nbformat_minor": 2
}
